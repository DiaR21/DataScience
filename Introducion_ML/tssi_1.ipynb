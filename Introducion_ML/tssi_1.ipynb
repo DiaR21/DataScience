{
 "cells": [
  {
   "cell_type": "code",
   "execution_count": 18,
   "metadata": {},
   "outputs": [
    {
     "name": "stdout",
     "output_type": "stream",
     "text": [
      "j 2\n",
      "j 5\n",
      "2\n",
      "3\n",
      "7\n",
      "11\n",
      "13\n"
     ]
    }
   ],
   "source": [
    "# Estructura de datos: Listas\n",
    "lista1=[2,3,7,11]\n",
    "print(\"j %d\"%lista1[0])\n",
    "lista1.append(13)\n",
    "print(\"j %d\"%len(lista1))\n",
    "for number in lista1:\n",
    "    print(number)\n"
   ]
  },
  {
   "cell_type": "code",
   "execution_count": 20,
   "metadata": {},
   "outputs": [
    {
     "name": "stdout",
     "output_type": "stream",
     "text": [
      "Valor de A: 1\n",
      "Valor de A: 11\n",
      "Llaves:  dict_keys(['a', 'b', 'c'])\n",
      "Valorer : dict_values([11, 2, 3])\n",
      "11\n",
      "2\n",
      "3\n"
     ]
    }
   ],
   "source": [
    "#Estructura de datos: Diccionario\n",
    "mydict={'a':1,'b':2, 'c':3};\n",
    "print(\"Valor de A: %d\"%(mydict['a'])) ;\n",
    "mydict['a']=11;\n",
    "print(\"Valor de A: %d\"%(mydict['a'])) ;\n",
    "print(\"Llaves:  %s\"%(mydict.keys())) ;\n",
    "print(\"Valorer : %s\"%(mydict.values())) ;\n",
    "for key in mydict.keys():\n",
    "    print(mydict[key])\n"
   ]
  },
  {
   "cell_type": "code",
   "execution_count": 2,
   "metadata": {},
   "outputs": [
    {
     "name": "stdout",
     "output_type": "stream",
     "text": [
      "[0 1 2 3 4 5 6 7 8]\n",
      "2\n"
     ]
    },
    {
     "data": {
      "text/plain": [
       "array([[0, 1, 2],\n",
       "       [3, 4, 5],\n",
       "       [6, 7, 8]])"
      ]
     },
     "execution_count": 2,
     "metadata": {},
     "output_type": "execute_result"
    }
   ],
   "source": [
    "import numpy as np\n",
    "d=np.arange(9) # genra un arreglo de una fila y n columnas\n",
    "print(d)\n",
    "d=d.reshape(3,3) #genera un arreglo \n",
    "print(d[0,2]) #pisicion especifica\n"
   ]
  },
  {
   "cell_type": "code",
   "execution_count": 22,
   "metadata": {},
   "outputs": [
    {
     "name": "stdout",
     "output_type": "stream",
     "text": [
      "Dimension de a: 1\n",
      "Dimension de a: 4\n"
     ]
    }
   ],
   "source": [
    "#Estructura de datos en Numpy para SciPy: Arreglos\n",
    "import  numpy as np \n",
    "a=np.array([1,2,3,4])\n",
    "print(\"Dimension de a: %d\"%a.ndim)\n",
    "print(\"Regustros de a: %d\"%a.shape)"
   ]
  },
  {
   "cell_type": "code",
   "execution_count": 3,
   "metadata": {},
   "outputs": [
    {
     "name": "stdout",
     "output_type": "stream",
     "text": [
      "a    1\n",
      "b    2\n",
      "c    3\n",
      "dtype: int32\n",
      "1\n",
      "1\n"
     ]
    }
   ],
   "source": [
    "import  numpy as np \n",
    "import pandas as ps\n",
    "arreglo=np.array([1,2,3])\n",
    "filas=['a','b', 'c'] #pocision\n",
    "serie=ps.Series(arreglo, index=filas) #da una  etiqueta a lña fila\n",
    "print(serie)\n",
    "print(serie[0])\n",
    "print(serie['a'])"
   ]
  },
  {
   "cell_type": "code",
   "execution_count": 4,
   "metadata": {},
   "outputs": [
    {
     "name": "stdout",
     "output_type": "stream",
     "text": [
      "1    a\n",
      "2    b\n",
      "3    c\n",
      "dtype: object\n",
      "a\n",
      "b\n"
     ]
    }
   ],
   "source": [
    "arreglo=np.array([1,2,3]) #indice numerico\n",
    "filas=['a','b', 'c']\n",
    "serie=ps.Series(filas, index=arreglo)\n",
    "print(serie)\n",
    "print(serie[1])\n",
    "print(serie[2])\n"
   ]
  },
  {
   "cell_type": "code",
   "execution_count": 36,
   "metadata": {},
   "outputs": [
    {
     "name": "stdout",
     "output_type": "stream",
     "text": [
      "   c1  c2  c3\n",
      "a   1   2   3\n",
      "b   4   5   6\n",
      "Columna: \n",
      " a    1\n",
      "b    4\n",
      "Name: c1, dtype: int32\n",
      "Columna: \n",
      " a    2\n",
      "b    5\n",
      "Name: c2, dtype: int32\n",
      "C_1      A\n",
      "C_2     40\n",
      "C_3    430\n",
      "Name: 0, dtype: object\n"
     ]
    }
   ],
   "source": [
    "# Pandas Data Frame\n",
    "# Es un arreglo multidimencional en las que las filas y las columnas se etiquetan \n",
    "import numpy as np\n",
    "import pandas as ps\n",
    "myarray=np.array([[1, 2, 3],[4, 5, 6]])\n",
    "rownames=['a','b']\n",
    "colnames=['c1','c2','c3']\n",
    "myDataFrame=ps.DataFrame(myarray, index=rownames,columns=colnames)\n",
    "print(myDataFrame)\n",
    "print(\"Columna: \\n %s\"%myDataFrame['c1'])\n",
    "print(\"Columna: \\n %s\"%myDataFrame.c2)\n",
    "\n",
    "df = ps.DataFrame({'C_1': [\"A\",\"B\",\"C\",\"D\"],'C_2':  [40,34,38,45],'C_3': [430, 980, 200, 350]})\n",
    "print(df.iloc[0]) #iloc e seleccionarán todas las columnas de la fila"
   ]
  },
  {
   "cell_type": "code",
   "execution_count": 37,
   "metadata": {},
   "outputs": [
    {
     "name": "stdout",
     "output_type": "stream",
     "text": [
      "(768, 9)\n"
     ]
    }
   ],
   "source": [
    "import  csv\n",
    "filename='diabetes.csv'\n",
    "raw_data=open(filename, 'r')\n",
    "reader=csv.reader(raw_data, delimiter=',', quoting=csv.QUOTE_NONE)\n",
    "x=list(reader)\n",
    "data=np.array(x).astype('float')\n",
    "print(data.shape)"
   ]
  },
  {
   "cell_type": "code",
   "execution_count": 43,
   "metadata": {},
   "outputs": [
    {
     "name": "stdout",
     "output_type": "stream",
     "text": [
      "(768, 9)\n"
     ]
    }
   ],
   "source": [
    "from numpy import loadtxt\n",
    "filename='diabetes.csv'\n",
    "raw_data=open(filename, 'rb')\n",
    "data=loadtxt(raw_data, delimiter=',')\n",
    "print(data.shape)"
   ]
  },
  {
   "cell_type": "code",
   "execution_count": 50,
   "metadata": {},
   "outputs": [
    {
     "name": "stdout",
     "output_type": "stream",
     "text": [
      "(150, 5)\n"
     ]
    }
   ],
   "source": [
    "from numpy import loadtxt\n",
    "filename='iris_01.csv'\n",
    "raw_data=open(filename, 'rb')\n",
    "data=loadtxt(raw_data, delimiter=',')\n",
    "print(data.shape)"
   ]
  },
  {
   "cell_type": "code",
   "execution_count": 54,
   "metadata": {},
   "outputs": [
    {
     "name": "stdout",
     "output_type": "stream",
     "text": [
      "(768, 9)\n"
     ]
    }
   ],
   "source": [
    "from pandas import read_csv\n",
    "filename='diabetes.csv'\n",
    "names=['preg', 'plas', 'pres', 'skin', 'test', 'mass','pedi', 'age','class']\n",
    "data=read_csv(filename, names=names)\n",
    "print(data.shape)"
   ]
  },
  {
   "cell_type": "code",
   "execution_count": 57,
   "metadata": {},
   "outputs": [
    {
     "name": "stdout",
     "output_type": "stream",
     "text": [
      "(150, 5)\n",
      "   sepal_length  selpal_width  petal_length  petal_width  class\n",
      "0           5.1           3.5           1.4          0.2      1\n",
      "1           4.9           3.0           1.4          0.2      1\n",
      "2           4.7           3.2           1.3          0.2      1\n",
      "3           4.6           3.1           1.5          0.2      1\n",
      "4           5.0           3.6           1.4          0.2      1\n",
      "5           5.4           3.9           1.7          0.4      1\n",
      "6           4.6           3.4           1.4          0.3      1\n",
      "7           5.0           3.4           1.5          0.2      1\n",
      "8           4.4           2.9           1.4          0.2      1\n",
      "9           4.9           3.1           1.5          0.1      1\n",
      "sepal_length    float64\n",
      "selpal_width    float64\n",
      "petal_length    float64\n",
      "petal_width     float64\n",
      "class             int64\n",
      "dtype: object\n"
     ]
    }
   ],
   "source": [
    "from pandas import read_csv\n",
    "filename='iris_01.csv'\n",
    "names=['sepal_length', 'selpal_width', 'petal_length', 'petal_width','class']\n",
    "data=read_csv(filename, names=names)\n",
    "print(data.shape) # dimension del data frema\n",
    "print(data.head(10)) # imprime las primeras filas\n",
    "print(data.dtypes) #tipo de datos"
   ]
  },
  {
   "cell_type": "code",
   "execution_count": null,
   "metadata": {},
   "outputs": [],
   "source": []
  }
 ],
 "metadata": {
  "interpreter": {
   "hash": "b3ba2566441a7c06988d0923437866b63cedc61552a5af99d1f4fb67d367b25f"
  },
  "kernelspec": {
   "display_name": "Python 3.8.8 64-bit ('base': conda)",
   "name": "python3"
  },
  "language_info": {
   "codemirror_mode": {
    "name": "ipython",
    "version": 3
   },
   "file_extension": ".py",
   "mimetype": "text/x-python",
   "name": "python",
   "nbconvert_exporter": "python",
   "pygments_lexer": "ipython3",
   "version": "3.8.8"
  },
  "orig_nbformat": 4
 },
 "nbformat": 4,
 "nbformat_minor": 2
}
