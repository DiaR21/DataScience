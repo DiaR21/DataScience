{
 "cells": [
  {
   "cell_type": "code",
   "execution_count": null,
   "metadata": {},
   "outputs": [],
   "source": [
    "# 67\n",
    "#Preprocesar datasets para ML\n",
    "#Modulo sklearn.preprocessing \n",
    "#Escalamiento: modifica la escala  un rango determinado, usualmente 0 y 1\n",
    "# clase MinMaxScaler\n",
    "# Estandarizacion: Transforma datos con distrubucion gaussiana y medias diferentes a med=0 y desv=1\n",
    "#clase StandardScaler\n",
    "#Normalizacion: Reescalar cada observacion a una longitud de 1 (norma o vector unitario)\n",
    "# clase Normalizer\n",
    "#Binarizacion: tranforma el tipo de dato a binario\n",
    "#clase Binarizar\n",
    "# Imputacion: Sustituir datos faltantes\n",
    "# Centrado: Remover el valor medios de cada variable y escalarlo dividiendo las variables no contantes por su desviacion estandar\n"
   ]
  },
  {
   "cell_type": "code",
   "execution_count": 5,
   "metadata": {},
   "outputs": [
    {
     "name": "stdout",
     "output_type": "stream",
     "text": [
      "[[0.353 0.744 0.59  0.354 0.    0.501 0.234 0.483]\n",
      " [0.059 0.427 0.541 0.293 0.    0.396 0.117 0.167]\n",
      " [0.471 0.92  0.525 0.    0.    0.347 0.254 0.183]\n",
      " [0.059 0.447 0.541 0.232 0.111 0.419 0.038 0.   ]\n",
      " [0.    0.688 0.328 0.354 0.199 0.642 0.944 0.2  ]\n",
      " [0.294 0.583 0.607 0.    0.    0.382 0.053 0.15 ]]\n"
     ]
    }
   ],
   "source": [
    "#Reescala de datos\n",
    "# Biblioteca: Numpy, Pandas y scikit-learn(clase MinMaxScaler)\n",
    "#Reescala entre 0 y 1\n",
    "from pandas import read_csv\n",
    "from numpy import  set_printoptions\n",
    "from sklearn.preprocessing import MinMaxScaler\n",
    "filename='diabetes.csv'\n",
    "names=['preg', 'plas', 'pres', 'skin', 'test', 'mass','pedi', 'age','class']\n",
    "dataframe=read_csv(filename, names=names)\n",
    "array=dataframe.values\n",
    "X=array[:,0:8]\n",
    "y=array[:,8]\n",
    "scaler=MinMaxScaler(feature_range=(0,1))\n",
    "rescaledX=scaler.fit_transform(X)\n",
    "set_printoptions(precision=3)\n",
    "print(rescaledX[0:6,:])"
   ]
  },
  {
   "cell_type": "code",
   "execution_count": 6,
   "metadata": {},
   "outputs": [
    {
     "name": "stdout",
     "output_type": "stream",
     "text": [
      "[[0.222 0.625 0.068 0.042]\n",
      " [0.167 0.417 0.068 0.042]\n",
      " [0.111 0.5   0.051 0.042]\n",
      " [0.083 0.458 0.085 0.042]\n",
      " [0.194 0.667 0.068 0.042]\n",
      " [0.306 0.792 0.119 0.125]]\n"
     ]
    }
   ],
   "source": [
    "#Reescala de datos\n",
    "# Biblioteca: Numpy, Pandas y scikit-learn(clase MinMaxScaler)\n",
    "#Reescala entre 0 y 1\n",
    "from pandas import read_csv\n",
    "from numpy import  set_printoptions\n",
    "from sklearn.preprocessing import MinMaxScaler\n",
    "filename='iris_01.csv'\n",
    "names=['sepal_length', 'selpal_width', 'petal_length', 'petal_width','class']\n",
    "dataframe=read_csv(filename, names=names)\n",
    "array=dataframe.values\n",
    "X=array[:,0:4]\n",
    "y=array[:,4]\n",
    "scaler=MinMaxScaler(feature_range=(0,1))\n",
    "rescaledX=scaler.fit_transform(X)\n",
    "set_printoptions(precision=3)\n",
    "print(rescaledX[0:6,:])"
   ]
  },
  {
   "cell_type": "code",
   "execution_count": 9,
   "metadata": {},
   "outputs": [
    {
     "name": "stdout",
     "output_type": "stream",
     "text": [
      "[[ 0.64   0.848  0.15   0.907 -0.693  0.204  0.468  1.426]\n",
      " [-0.845 -1.123 -0.161  0.531 -0.693 -0.684 -0.365 -0.191]\n",
      " [ 1.234  1.944 -0.264 -1.288 -0.693 -1.103  0.604 -0.106]\n",
      " [-0.845 -0.998 -0.161  0.155  0.123 -0.494 -0.921 -1.042]\n",
      " [-1.142  0.504 -1.505  0.907  0.766  1.41   5.485 -0.02 ]]\n"
     ]
    }
   ],
   "source": [
    "# EStandarizacion de Datos\n",
    "# Estandarizacion: Transforma datos con distrubucion gaussiana y medias diferentes a med=0 y desv=1\n",
    "#clase StandardScaler\n",
    "from pandas import read_csv\n",
    "from numpy import  set_printoptions\n",
    "from sklearn.preprocessing import StandardScaler\n",
    "filename='diabetes.csv'\n",
    "names=['preg', 'plas', 'pres', 'skin', 'test', 'mass','pedi', 'age','class']\n",
    "dataframe=read_csv(filename, names=names)\n",
    "array=dataframe.values\n",
    "X=array[:,0:8]\n",
    "y=array[:,8]\n",
    "scaler=StandardScaler().fit(X)\n",
    "rescaledX=scaler.fit_transform(X)\n",
    "set_printoptions(precision=3)\n",
    "print(rescaledX[0:5,:])"
   ]
  },
  {
   "cell_type": "code",
   "execution_count": 10,
   "metadata": {},
   "outputs": [
    {
     "name": "stdout",
     "output_type": "stream",
     "text": [
      "[[-0.901  1.019 -1.34  -1.315]\n",
      " [-1.143 -0.132 -1.34  -1.315]\n",
      " [-1.385  0.328 -1.397 -1.315]\n",
      " [-1.507  0.098 -1.283 -1.315]\n",
      " [-1.022  1.249 -1.34  -1.315]\n",
      " [-0.537  1.94  -1.17  -1.052]]\n"
     ]
    }
   ],
   "source": [
    "# EStandarizacion de Datos\n",
    "# Estandarizacion: Transforma datos con distrubucion gaussiana y medias diferentes a med=0 y desv=1\n",
    "#clase StandardScaler\n",
    "from pandas import read_csv\n",
    "from numpy import  set_printoptions\n",
    "from sklearn.preprocessing import StandardScaler\n",
    "filename='iris_01.csv'\n",
    "names=['sepal_length', 'selpal_width', 'petal_length', 'petal_width','class']\n",
    "dataframe=read_csv(filename, names=names)\n",
    "array=dataframe.values\n",
    "X=array[:,0:4]\n",
    "y=array[:,4]\n",
    "scaler=StandardScaler().fit(X)\n",
    "rescaledX=scaler.fit_transform(X)\n",
    "set_printoptions(precision=3)\n",
    "print(rescaledX[0:6,:])\n"
   ]
  },
  {
   "cell_type": "code",
   "execution_count": 11,
   "metadata": {},
   "outputs": [
    {
     "name": "stdout",
     "output_type": "stream",
     "text": [
      "[[0.034 0.828 0.403 0.196 0.    0.188 0.004 0.28 ]\n",
      " [0.008 0.716 0.556 0.244 0.    0.224 0.003 0.261]\n",
      " [0.04  0.924 0.323 0.    0.    0.118 0.003 0.162]\n",
      " [0.007 0.588 0.436 0.152 0.622 0.186 0.001 0.139]\n",
      " [0.    0.596 0.174 0.152 0.731 0.188 0.01  0.144]]\n"
     ]
    }
   ],
   "source": [
    "#Normalizar Datos\n",
    "#Normalizacion: Reescalar cada observacion a una longitud de 1 (norma o vector unitario)\n",
    "# clase Normalizer\n",
    "from pandas import read_csv\n",
    "from numpy import  set_printoptions\n",
    "from sklearn.preprocessing import Normalizer\n",
    "filename='diabetes.csv'\n",
    "names=['preg', 'plas', 'pres', 'skin', 'test', 'mass','pedi', 'age','class']\n",
    "dataframe=read_csv(filename, names=names)\n",
    "array=dataframe.values\n",
    "X=array[:,0:8]\n",
    "y=array[:,8]\n",
    "scaler=Normalizer().fit(X)\n",
    "rescaledX=scaler.fit_transform(X)\n",
    "set_printoptions(precision=3)\n",
    "print(rescaledX[0:5,:])"
   ]
  },
  {
   "cell_type": "code",
   "execution_count": 15,
   "metadata": {},
   "outputs": [
    {
     "name": "stdout",
     "output_type": "stream",
     "text": [
      "[[0.804 0.552 0.221 0.032]\n",
      " [0.828 0.507 0.237 0.034]\n",
      " [0.805 0.548 0.223 0.034]\n",
      " [0.8   0.539 0.261 0.035]\n",
      " [0.791 0.569 0.221 0.032]]\n"
     ]
    }
   ],
   "source": [
    "#Normalizar Datos\n",
    "#Normalizacion: Reescalar cada observacion a una longitud de 1 (norma o vector unitario)\n",
    "# clase Normalizer\n",
    "from pandas import read_csv\n",
    "from numpy import  set_printoptions\n",
    "from sklearn.preprocessing import Normalizer\n",
    "filename='iris_01.csv'\n",
    "names=['sepal_length', 'selpal_width', 'petal_length', 'petal_width','class']\n",
    "dataframe=read_csv(filename, names=names)\n",
    "array=dataframe.values\n",
    "X=array[:,0:4]\n",
    "y=array[:,4]\n",
    "scaler=Normalizer().fit(X)\n",
    "rescaledX=scaler.fit_transform(X)\n",
    "set_printoptions(precision=3)\n",
    "print(rescaledX[0:5,:])\n"
   ]
  },
  {
   "cell_type": "code",
   "execution_count": 14,
   "metadata": {},
   "outputs": [
    {
     "name": "stdout",
     "output_type": "stream",
     "text": [
      "[[1. 1. 1. 1. 0. 1. 1. 1.]\n",
      " [1. 1. 1. 1. 0. 1. 1. 1.]\n",
      " [1. 1. 1. 0. 0. 1. 1. 1.]\n",
      " [1. 1. 1. 1. 1. 1. 1. 1.]\n",
      " [0. 1. 1. 1. 1. 1. 1. 1.]]\n"
     ]
    }
   ],
   "source": [
    "#Binarizacion de datos\n",
    "#Binarizacion: tranforma el tipo de dato a binario\n",
    "#clase Binarizar\n",
    "from pandas import read_csv\n",
    "from numpy import  set_printoptions\n",
    "from sklearn.preprocessing import Binarizer\n",
    "filename='diabetes.csv'\n",
    "names=['preg', 'plas', 'pres', 'skin', 'test', 'mass','pedi', 'age','class']\n",
    "dataframe=read_csv(filename, names=names)\n",
    "array=dataframe.values\n",
    "X=array[:,0:8]\n",
    "y=array[:,8]\n",
    "binarizer=Binarizer(threshold=0.0).fit(X)\n",
    "binaryX=binarizer.transform(X)\n",
    "set_printoptions(precision=3)\n",
    "print(binaryX[0:5,:])"
   ]
  },
  {
   "cell_type": "code",
   "execution_count": 16,
   "metadata": {},
   "outputs": [
    {
     "name": "stdout",
     "output_type": "stream",
     "text": [
      "[[1. 1. 1. 1.]\n",
      " [1. 1. 1. 1.]\n",
      " [1. 1. 1. 1.]\n",
      " [1. 1. 1. 1.]\n",
      " [1. 1. 1. 1.]\n",
      " [1. 1. 1. 1.]]\n"
     ]
    }
   ],
   "source": [
    "#Binarizacion de datos\n",
    "#Binarizacion: tranforma el tipo de dato a binario\n",
    "#clase Binarizar\n",
    "from pandas import read_csv\n",
    "from numpy import  set_printoptions\n",
    "from sklearn.preprocessing import Binarizer\n",
    "filename='iris_01.csv'\n",
    "names=['sepal_length', 'selpal_width', 'petal_length', 'petal_width','class']\n",
    "dataframe=read_csv(filename, names=names)\n",
    "array=dataframe.values\n",
    "X=array[:,0:4]\n",
    "y=array[:,4]\n",
    "binarizer=Binarizer(threshold=0.0).fit(X)\n",
    "binaryX=binarizer.transform(X)\n",
    "set_printoptions(precision=3)\n",
    "print(binaryX[0:6,:])"
   ]
  },
  {
   "cell_type": "code",
   "execution_count": null,
   "metadata": {},
   "outputs": [],
   "source": []
  }
 ],
 "metadata": {
  "interpreter": {
   "hash": "b3ba2566441a7c06988d0923437866b63cedc61552a5af99d1f4fb67d367b25f"
  },
  "kernelspec": {
   "display_name": "Python 3.8.8 64-bit ('base': conda)",
   "name": "python3"
  },
  "language_info": {
   "codemirror_mode": {
    "name": "ipython",
    "version": 3
   },
   "file_extension": ".py",
   "mimetype": "text/x-python",
   "name": "python",
   "nbconvert_exporter": "python",
   "pygments_lexer": "ipython3",
   "version": "3.8.8"
  },
  "orig_nbformat": 4
 },
 "nbformat": 4,
 "nbformat_minor": 2
}
